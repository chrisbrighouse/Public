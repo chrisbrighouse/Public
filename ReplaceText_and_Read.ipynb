{
  "nbformat": 4,
  "nbformat_minor": 0,
  "metadata": {
    "colab": {
      "provenance": [],
      "mount_file_id": "11lGnJHdwXGRH8RoRhYDOvEP0GeIRgVcs",
      "authorship_tag": "ABX9TyP23eG56aIF/NXiZWKcaNYy",
      "include_colab_link": true
    },
    "kernelspec": {
      "name": "python3",
      "display_name": "Python 3"
    },
    "language_info": {
      "name": "python"
    }
  },
  "cells": [
    {
      "cell_type": "markdown",
      "metadata": {
        "id": "view-in-github",
        "colab_type": "text"
      },
      "source": [
        "<a href=\"https://colab.research.google.com/github/chrisbrighouse/Public/blob/main/ReplaceText_and_Read.ipynb\" target=\"_parent\"><img src=\"https://colab.research.google.com/assets/colab-badge.svg\" alt=\"Open In Colab\"/></a>"
      ]
    },
    {
      "cell_type": "code",
      "execution_count": null,
      "metadata": {
        "id": "NdlukE_6WwI3"
      },
      "outputs": [],
      "source": [
        "#https://www.youtube.com/watch?v=pH6ki1tjC38&list=WL&index=5&t=271s\n",
        "\n",
        "\n",
        "!pip install --upgrade pip\n",
        "!pip install --no-cache-dir openai\n",
        "!pip install pdfplumber\n",
        "!pip install glob2\n",
        "!pip install openai\n",
        "#!conda install -c conda-forge openai\n",
        "#!pipenv install openai"
      ]
    },
    {
      "cell_type": "code",
      "source": [
        "\n",
        "\n",
        "import requests\n",
        "import os\n",
        "import pdfplumber\n",
        "from time import time,sleep\n",
        "import textwrap\n",
        "import re\n",
        "import glob2\n",
        "import openai\n",
        "\n",
        "\n"
      ],
      "metadata": {
        "id": "UsGfqIw5WxlC"
      },
      "execution_count": null,
      "outputs": []
    },
    {
      "cell_type": "code",
      "source": [
        "\n",
        "filepath=\"input.txt\"\n",
        "def open_file(filepath):\n",
        "  with open(filepath, 'r', encoding='utf-8') as infile:\n",
        "    return infile.read()\n",
        "\n",
        "def save_file(filepath, content):\n",
        "  with open(filepath, 'w', encoding='utf-8') as outfile:\n",
        "    outfile.write(content)\n",
        "\n",
        "#def convert_pdf2txt(src_dir, dest_dir):\n",
        "#  files = os.listdir(src_dir)\n",
        "#  files = [i for i in files if '.pdf' in i]\n",
        "#  for file in files:\n",
        "#    try:\n",
        "#        with pdfplumber.open(src_dir+file) as pdf:\n",
        "#          output = ''\n",
        "#          for page in pdf.pages:\n",
        "\n",
        "\n",
        "#      except Exception as oops:\n",
        "#       print (oops, file)\n",
        "\n",
        "\n",
        "elapikey = open_file ('elevenlabskey.txt')\n",
        "openai.api_key = open_file ('openaikey.txt')\n",
        "\n",
        "#this uses chatgpt\n",
        "def gpt_3 (messages):\n",
        "  response = openai.ChatCompletion.create(\n",
        "      model=\"gpt-3.5-turbo\",\n",
        "      messages=[{\"role\": \"user\", \"content\": messages}]\n",
        "  )\n",
        "  text = response['choices'][0]['message']['content']\n",
        "  return text\n",
        "\n",
        "def gpt_31 (messages):\n",
        "  response = openai.ChatCompletion.create(\n",
        "      model=\"gpt-3.5-turbo\",\n",
        "      messages=[{\"role\": \"users\", \"content\": messages}]\n",
        "  )\n",
        "  text = response['choices'][0]['text']\n",
        "  return text\n",
        "\n",
        "if __name__ == '__main__':\n",
        "  main1 = open_file(\"input.txt\")\n",
        "  storyscene = open_file('prompt2.txt').replace('<<STORY>>', main1)\n",
        "  completion = gpt_31(storyscene)\n",
        "  print('\\n\\n', completion)\n",
        "\n",
        "  #Elevenlabs voice\n",
        "  url='https://api.elevenlabs.io/v1/text-to-speech/21m00Tcm4TlvDq8ikWAM'\n",
        "  headers = {\n",
        "      'accept': 'audio/mpeg',\n",
        "      'xi-api-key':elapikey,\n",
        "      'Content-Type': 'application/json'\n",
        "  }\n",
        "  data = {\n",
        "      'text':completion,\n",
        "      'voice_settings': {\n",
        "            'stability': 0.6,\n",
        "            'similarity_boost': 0.85\n",
        "      }\n",
        "  }\n",
        "\n",
        "  response = requests.post(url, headers=headers, json=data)\n",
        "  if response.status_code == 200:\n",
        "    with open('output.mp3', 'wb') as f:\n",
        "        f.write(response.content)\n",
        "    print('Text to speech conversion successful')\n",
        "  else:\n",
        "    print('Error:', response.text)\n",
        "\n",
        "\n",
        "  # Load the API keys for OpenAI and PDFplumber\n",
        "  secrets = openai_secret_manager.get_secret(\"services\")\n",
        "  openai_key = secrets[\"openai\"][\"api_key\"]\n",
        "  pdfplumber_key = secrets[\"pdfplumber\"][\"api_key\"]\n",
        "\n",
        "\n"
      ],
      "metadata": {
        "id": "xLmM0h8IcBgL",
        "outputId": "78704aaf-2e24-4880-db1d-ed010bddb312",
        "colab": {
          "base_uri": "https://localhost:8080/",
          "height": 365
        }
      },
      "execution_count": null,
      "outputs": [
        {
          "output_type": "error",
          "ename": "FileNotFoundError",
          "evalue": "ignored",
          "traceback": [
            "\u001b[0;31m---------------------------------------------------------------------------\u001b[0m",
            "\u001b[0;31mFileNotFoundError\u001b[0m                         Traceback (most recent call last)",
            "\u001b[0;32m<ipython-input-1-763efc2105e2>\u001b[0m in \u001b[0;36m<module>\u001b[0;34m\u001b[0m\n\u001b[1;32m     22\u001b[0m \u001b[0;34m\u001b[0m\u001b[0m\n\u001b[1;32m     23\u001b[0m \u001b[0;34m\u001b[0m\u001b[0m\n\u001b[0;32m---> 24\u001b[0;31m \u001b[0melapikey\u001b[0m \u001b[0;34m=\u001b[0m \u001b[0mopen_file\u001b[0m \u001b[0;34m(\u001b[0m\u001b[0;34m'elevenlabskey.txt'\u001b[0m\u001b[0;34m)\u001b[0m\u001b[0;34m\u001b[0m\u001b[0;34m\u001b[0m\u001b[0m\n\u001b[0m\u001b[1;32m     25\u001b[0m \u001b[0mopenai\u001b[0m\u001b[0;34m.\u001b[0m\u001b[0mapi_key\u001b[0m \u001b[0;34m=\u001b[0m \u001b[0mopen_file\u001b[0m \u001b[0;34m(\u001b[0m\u001b[0;34m'openaikey.txt'\u001b[0m\u001b[0;34m)\u001b[0m\u001b[0;34m\u001b[0m\u001b[0;34m\u001b[0m\u001b[0m\n\u001b[1;32m     26\u001b[0m \u001b[0;34m\u001b[0m\u001b[0m\n",
            "\u001b[0;32m<ipython-input-1-763efc2105e2>\u001b[0m in \u001b[0;36mopen_file\u001b[0;34m(filepath)\u001b[0m\n\u001b[1;32m      1\u001b[0m \u001b[0mfilepath\u001b[0m\u001b[0;34m=\u001b[0m\u001b[0;34m\"input.txt\"\u001b[0m\u001b[0;34m\u001b[0m\u001b[0;34m\u001b[0m\u001b[0m\n\u001b[1;32m      2\u001b[0m \u001b[0;32mdef\u001b[0m \u001b[0mopen_file\u001b[0m\u001b[0;34m(\u001b[0m\u001b[0mfilepath\u001b[0m\u001b[0;34m)\u001b[0m\u001b[0;34m:\u001b[0m\u001b[0;34m\u001b[0m\u001b[0;34m\u001b[0m\u001b[0m\n\u001b[0;32m----> 3\u001b[0;31m   \u001b[0;32mwith\u001b[0m \u001b[0mopen\u001b[0m\u001b[0;34m(\u001b[0m\u001b[0mfilepath\u001b[0m\u001b[0;34m,\u001b[0m \u001b[0;34m'r'\u001b[0m\u001b[0;34m,\u001b[0m \u001b[0mencoding\u001b[0m\u001b[0;34m=\u001b[0m\u001b[0;34m'utf-8'\u001b[0m\u001b[0;34m)\u001b[0m \u001b[0;32mas\u001b[0m \u001b[0minfile\u001b[0m\u001b[0;34m:\u001b[0m\u001b[0;34m\u001b[0m\u001b[0;34m\u001b[0m\u001b[0m\n\u001b[0m\u001b[1;32m      4\u001b[0m     \u001b[0;32mreturn\u001b[0m \u001b[0minfile\u001b[0m\u001b[0;34m.\u001b[0m\u001b[0mread\u001b[0m\u001b[0;34m(\u001b[0m\u001b[0;34m)\u001b[0m\u001b[0;34m\u001b[0m\u001b[0;34m\u001b[0m\u001b[0m\n\u001b[1;32m      5\u001b[0m \u001b[0;34m\u001b[0m\u001b[0m\n",
            "\u001b[0;31mFileNotFoundError\u001b[0m: [Errno 2] No such file or directory: 'elevenlabskey.txt'"
          ]
        }
      ]
    }
  ]
}